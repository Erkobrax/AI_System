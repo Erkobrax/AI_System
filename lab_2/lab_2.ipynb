{
 "cells": [
  {
   "cell_type": "markdown",
   "source": [
    "Цель задания: Исследование алгоритмов решения задач методом поиска.\n",
    "Описание предметной области. Имеется транспортная сеть, связывающая\n",
    "города СНГ. Сеть представлена в виде таблицы связей между городами. Связи\n",
    "являются двусторонними, т.е. допускают движение в обоих направлениях.\n",
    "Необходимо проложить маршрут из одной заданной точки в другую.\n",
    "Этап 1. Неинформированный поиск. На этом этапе известна только\n",
    "топология связей между городами.\n",
    "Выполнить:\n",
    "1)поиск в ширину;\n",
    "2)поиск глубину;\n",
    "3)поиск с ограничением глубины;\n",
    "4)поиск с итеративным углублением;\n",
    "5)двунаправленный поиск.\n",
    "Отобразить движение по дереву на его графе с указанием сложности каждого вида поиска. Сделать выводы.\n"
   ],
   "metadata": {
    "collapsed": false
   }
  },
  {
   "cell_type": "code",
   "execution_count": 58,
   "outputs": [],
   "source": [
    "import networkx as nx\n",
    "from networkx import *\n",
    "import pylab as plt\n",
    "import os\n",
    "import collections"
   ],
   "metadata": {
    "collapsed": false,
    "pycharm": {
     "name": "#%%\n"
    }
   }
  },
  {
   "cell_type": "code",
   "source": [
    "table = '''Вильнюс Брест 531\n",
    "Витебск Брест 638\n",
    "Витебск Вильнюс 360\n",
    "Воронеж Витебск 869\n",
    "Воронеж Волгоград 581\n",
    "Волгоград Витебск 1455\n",
    "Витебск Ниж.Новгород 911\n",
    "Вильнюс Даугавпилс 211\n",
    "Калининград Брест 699\n",
    "Калининград Вильнюс 333\n",
    "Каунас Вильнюс 102\n",
    "Киев Вильнюс 734\n",
    "Киев Житомир 131\n",
    "Житомир Донецк 863\n",
    "Житомир Волгоград 1493\n",
    "Кишинев Киев 467\n",
    "Кишинев Донецк 812\n",
    "С.Петербург Витебск 602\n",
    "С.Петербург Калининград 739\n",
    "С.Петербург Рига 641\n",
    "Москва Казань 815\n",
    "Москва Ниж.Новгород 411\n",
    "Москва Минск 690\n",
    "Москва Донецк 1084\n",
    "Москва С.Петербург 664\n",
    "Мурманск С.Петербург 1412\n",
    "Мурманск Минск 2238\n",
    "Орел Витебск 522\n",
    "Орел Донецк 709\n",
    "Орел Москва 368\n",
    "Одесса Киев 487\n",
    "Рига Каунас 267\n",
    "Таллинн Рига 308\n",
    "Харьков Киев 471\n",
    "Харьков Симферополь 639\n",
    "Ярославль Воронеж 739\n",
    "Ярославль Минск 940\n",
    "Уфа Казань 525\n",
    "Уфа Самара 461'''\n",
    "# изначальные данные\n",
    "table"
   ],
   "metadata": {
    "collapsed": false,
    "pycharm": {
     "name": "#%%\n"
    }
   },
   "execution_count": 59,
   "outputs": [
    {
     "data": {
      "text/plain": "'Вильнюс Брест 531\\nВитебск Брест 638\\nВитебск Вильнюс 360\\nВоронеж Витебск 869\\nВоронеж Волгоград 581\\nВолгоград Витебск 1455\\nВитебск Ниж.Новгород 911\\nВильнюс Даугавпилс 211\\nКалининград Брест 699\\nКалининград Вильнюс 333\\nКаунас Вильнюс 102\\nКиев Вильнюс 734\\nКиев Житомир 131\\nЖитомир Донецк 863\\nЖитомир Волгоград 1493\\nКишинев Киев 467\\nКишинев Донецк 812\\nС.Петербург Витебск 602\\nС.Петербург Калининград 739\\nС.Петербург Рига 641\\nМосква Казань 815\\nМосква Ниж.Новгород 411\\nМосква Минск 690\\nМосква Донецк 1084\\nМосква С.Петербург 664\\nМурманск С.Петербург 1412\\nМурманск Минск 2238\\nОрел Витебск 522\\nОрел Донецк 709\\nОрел Москва 368\\nОдесса Киев 487\\nРига Каунас 267\\nТаллинн Рига 308\\nХарьков Киев 471\\nХарьков Симферополь 639\\nЯрославль Воронеж 739\\nЯрославль Минск 940\\nУфа Казань 525\\nУфа Самара 461'"
     },
     "execution_count": 59,
     "metadata": {},
     "output_type": "execute_result"
    }
   ]
  },
  {
   "cell_type": "code",
   "execution_count": 60,
   "outputs": [],
   "source": [
    "graph = read_edgelist(r\"data/data_city.txt\") #считываем граф из файла, без веса"
   ],
   "metadata": {
    "collapsed": false,
    "pycharm": {
     "name": "#%%\n"
    }
   }
  },
  {
   "cell_type": "code",
   "execution_count": 61,
   "outputs": [],
   "source": [
    "graph = nx.Graph(graph)"
   ],
   "metadata": {
    "collapsed": false,
    "pycharm": {
     "name": "#%%\n"
    }
   }
  },
  {
   "cell_type": "code",
   "execution_count": 62,
   "outputs": [],
   "source": [
    "nx.draw(graph,  with_labels=True, pos=nx.circular_layout(graph))\n",
    "plt.savefig('graph.png')\n",
    "plt.close()\n",
    "nx.draw(graph,  with_labels=True, pos=nx.kamada_kawai_layout(graph))\n",
    "plt.savefig('graph_2.png')\n",
    "plt.close()"
   ],
   "metadata": {
    "collapsed": false,
    "pycharm": {
     "name": "#%%\n"
    }
   }
  },
  {
   "cell_type": "markdown",
   "source": [
    "![](graph.png)\n",
    "![](graph_2.png)\n"
   ],
   "metadata": {
    "collapsed": false,
    "pycharm": {
     "name": "#%% md\n"
    }
   }
  },
  {
   "cell_type": "code",
   "execution_count": 63,
   "outputs": [
    {
     "data": {
      "text/plain": "[['Вильнюс', 'Брест', 531],\n ['Витебск', 'Брест', 638],\n ['Витебск', 'Вильнюс', 360],\n ['Воронеж', 'Витебск', 869],\n ['Воронеж', 'Волгоград', 581],\n ['Волгоград', 'Витебск', 1455],\n ['Витебск', 'Ниж.Новгород', 911],\n ['Вильнюс', 'Даугавпилс', 211],\n ['Калининград', 'Брест', 699],\n ['Калининград', 'Вильнюс', 333],\n ['Каунас', 'Вильнюс', 102],\n ['Киев', 'Вильнюс', 734],\n ['Киев', 'Житомир', 131],\n ['Житомир', 'Донецк', 863],\n ['Житомир', 'Волгоград', 1493],\n ['Кишинев', 'Киев', 467],\n ['Кишинев', 'Донецк', 812],\n ['С.Петербург', 'Витебск', 602],\n ['С.Петербург', 'Калининград', 739],\n ['С.Петербург', 'Рига', 641],\n ['Москва', 'Казань', 815],\n ['Москва', 'Ниж.Новгород', 411],\n ['Москва', 'Минск', 690],\n ['Москва', 'Донецк', 1084],\n ['Москва', 'С.Петербург', 664],\n ['Мурманск', 'С.Петербург', 1412],\n ['Мурманск', 'Минск', 2238],\n ['Орел', 'Витебск', 522],\n ['Орел', 'Донецк', 709],\n ['Орел', 'Москва', 368],\n ['Одесса', 'Киев', 487],\n ['Рига', 'Каунас', 267],\n ['Таллинн', 'Рига', 308],\n ['Харьков', 'Киев', 471],\n ['Харьков', 'Симферополь', 639],\n ['Ярославль', 'Воронеж', 739],\n ['Ярославль', 'Минск', 940],\n ['Уфа', 'Казань', 525],\n ['Уфа', 'Самара', 461]]"
     },
     "execution_count": 63,
     "metadata": {},
     "output_type": "execute_result"
    }
   ],
   "source": [
    "table = list(map(lambda x: x[0:2] + [int(x[2])], map(lambda x: x.split(), table.split('\\n'))))\n",
    "#разбиваем на списки смежности данные с учетом веса\n",
    "table"
   ],
   "metadata": {
    "collapsed": false,
    "pycharm": {
     "name": "#%%\n"
    }
   }
  },
  {
   "cell_type": "code",
   "execution_count": 64,
   "outputs": [
    {
     "name": "stdout",
     "output_type": "stream",
     "text": [
      "{'Вильнюс': {}, 'Витебск': {}, 'Воронеж': {}, 'Волгоград': {}, 'Калининград': {}, 'Каунас': {}, 'Киев': {}, 'Житомир': {}, 'Кишинев': {}, 'С.Петербург': {}, 'Москва': {}, 'Мурманск': {}, 'Орел': {}, 'Одесса': {}, 'Рига': {}, 'Таллинн': {}, 'Харьков': {}, 'Ярославль': {}, 'Уфа': {}, 'Брест': {}, 'Ниж.Новгород': {}, 'Даугавпилс': {}, 'Донецк': {}, 'Казань': {}, 'Минск': {}, 'Симферополь': {}, 'Самара': {}}\n"
     ]
    },
    {
     "data": {
      "text/plain": "{'Вильнюс': {'Брест': 531,\n  'Витебск': 360,\n  'Даугавпилс': 211,\n  'Калининград': 333,\n  'Каунас': 102,\n  'Киев': 734},\n 'Витебск': {'Брест': 638,\n  'Вильнюс': 360,\n  'Воронеж': 869,\n  'Волгоград': 1455,\n  'Ниж.Новгород': 911,\n  'С.Петербург': 602,\n  'Орел': 522},\n 'Воронеж': {'Витебск': 869, 'Волгоград': 581, 'Ярославль': 739},\n 'Волгоград': {'Воронеж': 581, 'Витебск': 1455, 'Житомир': 1493},\n 'Калининград': {'Брест': 699, 'Вильнюс': 333, 'С.Петербург': 739},\n 'Каунас': {'Вильнюс': 102, 'Рига': 267},\n 'Киев': {'Вильнюс': 734,\n  'Житомир': 131,\n  'Кишинев': 467,\n  'Одесса': 487,\n  'Харьков': 471},\n 'Житомир': {'Киев': 131, 'Донецк': 863, 'Волгоград': 1493},\n 'Кишинев': {'Киев': 467, 'Донецк': 812},\n 'С.Петербург': {'Витебск': 602,\n  'Калининград': 739,\n  'Рига': 641,\n  'Москва': 664,\n  'Мурманск': 1412},\n 'Москва': {'Казань': 815,\n  'Ниж.Новгород': 411,\n  'Минск': 690,\n  'Донецк': 1084,\n  'С.Петербург': 664,\n  'Орел': 368},\n 'Мурманск': {'С.Петербург': 1412, 'Минск': 2238},\n 'Орел': {'Витебск': 522, 'Донецк': 709, 'Москва': 368},\n 'Одесса': {'Киев': 487},\n 'Рига': {'С.Петербург': 641, 'Каунас': 267, 'Таллинн': 308},\n 'Таллинн': {'Рига': 308},\n 'Харьков': {'Киев': 471, 'Симферополь': 639},\n 'Ярославль': {'Воронеж': 739, 'Минск': 940},\n 'Уфа': {'Казань': 525, 'Самара': 461},\n 'Брест': {'Вильнюс': 531, 'Витебск': 638, 'Калининград': 699},\n 'Ниж.Новгород': {'Витебск': 911, 'Москва': 411},\n 'Даугавпилс': {'Вильнюс': 211},\n 'Донецк': {'Житомир': 863, 'Кишинев': 812, 'Москва': 1084, 'Орел': 709},\n 'Казань': {'Москва': 815, 'Уфа': 525},\n 'Минск': {'Москва': 690, 'Мурманск': 2238, 'Ярославль': 940},\n 'Симферополь': {'Харьков': 639},\n 'Самара': {'Уфа': 461}}"
     },
     "execution_count": 64,
     "metadata": {},
     "output_type": "execute_result"
    }
   ],
   "source": [
    "#Мой вариант 7\n",
    "START = 'Рига'\n",
    "END = 'Одесса'\n",
    "a_list = table\n",
    "a_dict = {el[0]:dict() for el in a_list}\n",
    "for el in a_list:\n",
    "    a_dict[el[1]] = dict()\n",
    "print(a_dict)\n",
    "for el in a_list:\n",
    "    a_dict[el[0]][el[1]] = el[2]\n",
    "    a_dict[el[1]][el[0]] = el[2]\n",
    "a_dict # вложенный словарь, с которым будем работать"
   ],
   "metadata": {
    "collapsed": false,
    "pycharm": {
     "name": "#%%\n"
    }
   }
  },
  {
   "cell_type": "code",
   "execution_count": 65,
   "outputs": [],
   "source": [
    "class Queue:\n",
    "    def __init__(self):\n",
    "        self.elements = collections.deque()\n",
    "\n",
    "    def empty(self):\n",
    "        return len(self.elements) == 0\n",
    "\n",
    "    def put(self, x):\n",
    "        self.elements.append(x)\n",
    "\n",
    "    def get(self):\n",
    "        return self.elements.popleft()"
   ],
   "metadata": {
    "collapsed": false,
    "pycharm": {
     "name": "#%%\n"
    }
   }
  },
  {
   "cell_type": "markdown",
   "source": [
    "# Поиск в ширину"
   ],
   "metadata": {
    "collapsed": false,
    "pycharm": {
     "name": "#%% md\n"
    }
   }
  },
  {
   "cell_type": "code",
   "execution_count": 66,
   "outputs": [
    {
     "name": "stdout",
     "output_type": "stream",
     "text": [
      "Рига ----> Каунас ----> Вильнюс ----> Киев ----> Одесса  поиск в ширину  "
     ]
    }
   ],
   "source": [
    "def breadth_first_search_1(graph, start, end): #Трудоемкость O(N+M) рассматриваем все ребра и вершины единожды\n",
    "    # печать того, что мы нашли\n",
    "    frontier = Queue() # очередь\n",
    "    frontier.put(start) # начинаем с вершины, которую передали в start\n",
    "    visited = {} # пустой словарь вершин, которые посетили\n",
    "    visited[start] = True\n",
    "    parents = {}\n",
    "    parents[start] = None\n",
    "\n",
    "    while not frontier.empty(): #пока очередь не пуста\n",
    "        current = frontier.get() #берем элемент\n",
    "     #   print(\"Visiting %r\" % current) выводит обход графа в ширину\n",
    "        for next in graph.neighbors(current): #смотрим всех соседей\n",
    "            if next not in visited:\n",
    "                frontier.put(next)\n",
    "                parents[next] = current #записываем родителя для каждой вершины\n",
    "                visited[next] = True\n",
    "\n",
    "    path = [end]\n",
    "    parent = parents[end]\n",
    "    while not parent is None:\n",
    "        path.append(parent)\n",
    "        parent = parents[parent]\n",
    "    for x in  path[::-1]:\n",
    "        print(x, ('---->' if x!=end else ' поиск в ширину '), end=' ', )\n",
    "\n",
    "\n",
    "\n",
    "breadth_first_search_1(graph, START, END) # использую graph из библиотеки networkx"
   ],
   "metadata": {
    "collapsed": false,
    "pycharm": {
     "name": "#%%\n"
    }
   }
  },
  {
   "cell_type": "markdown",
   "source": [
    "# Поиск в глубину\n",
    "\n"
   ],
   "metadata": {
    "collapsed": false,
    "pycharm": {
     "name": "#%% md\n"
    }
   }
  },
  {
   "cell_type": "code",
   "execution_count": 72,
   "outputs": [
    {
     "name": "stdout",
     "output_type": "stream",
     "text": [
      "Рига ----> С.Петербург ----> Витебск ----> Брест ----> Вильнюс ----> Киев ----> Одесса  поиск в глубину  "
     ]
    }
   ],
   "source": [
    "parents = dict()\n",
    "parents[START]=None\n",
    "def dfs(graph, start, end, visited = None):  #function for dfs\n",
    "    visited = visited or set() # в python при or если одно из выражений True, то сразу принимает это значение\n",
    "    visited.add(start)\n",
    "    for neighbour in graph[start]:\n",
    "        if neighbour not in visited:\n",
    "            parents[neighbour] = start\n",
    "            dfs(graph, neighbour, end, visited)\n",
    "\n",
    "\n",
    "dfs(a_dict, START, END, {}) # здесь использую вложенный словарь, который создал в самом начале\n",
    "path=[END]\n",
    "parent = parents[END]\n",
    "while not parent is None:\n",
    "    path.append(parent)\n",
    "    parent = parents[parent]\n",
    "for x in  path[::-1]:\n",
    "    print(x, ('---->' if x!=END else ' поиск в глубину '), end=' ', )"
   ],
   "metadata": {
    "collapsed": false,
    "pycharm": {
     "name": "#%%\n"
    }
   }
  },
  {
   "cell_type": "markdown",
   "source": [
    "# Поиск с ограничением глубины"
   ],
   "metadata": {
    "collapsed": false,
    "pycharm": {
     "name": "#%% md\n"
    }
   }
  },
  {
   "cell_type": "code",
   "execution_count": 68,
   "outputs": [],
   "source": [],
   "metadata": {
    "collapsed": false,
    "pycharm": {
     "name": "#%%\n"
    }
   }
  },
  {
   "cell_type": "markdown",
   "source": [
    "# Поиск с итеративным углублением"
   ],
   "metadata": {
    "collapsed": false,
    "pycharm": {
     "name": "#%% md\n"
    }
   }
  },
  {
   "cell_type": "code",
   "execution_count": 68,
   "outputs": [],
   "source": [],
   "metadata": {
    "collapsed": false,
    "pycharm": {
     "name": "#%%\n"
    }
   }
  }
 ],
 "metadata": {
  "kernelspec": {
   "display_name": "Python 3",
   "language": "python",
   "name": "python3"
  },
  "language_info": {
   "codemirror_mode": {
    "name": "ipython",
    "version": 2
   },
   "file_extension": ".py",
   "mimetype": "text/x-python",
   "name": "python",
   "nbconvert_exporter": "python",
   "pygments_lexer": "ipython2",
   "version": "2.7.6"
  }
 },
 "nbformat": 4,
 "nbformat_minor": 0
}