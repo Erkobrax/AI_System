{
 "cells": [
  {
   "cell_type": "markdown",
   "metadata": {
    "collapsed": true,
    "pycharm": {
     "name": "#%% md\n"
    }
   },
   "source": [
    "# Цель задания: Исследование алгоритмов решения задач методом поиска. Описание предметной области. Имеется транспортная сеть, связывающая города СНГ. Сеть представлена в виде таблицы связей между городами. Связи являются двусторонними, т.е. допускают движение в обоих направлениях. Необходимо проложить маршрут из одной заданной точки в другую.\n",
    "Этап 1. Неинформированный поиск. На этом этапе известна только топология связей между городами. Выполнить: 1)поиск в ширину; 2)поиск глубину; 3)поиск с ограничением глубины; 4)поиск с итеративным углублением; 5)двунаправленный поиск. Отобразить движение по дереву на его графе с указанием сложности каждого вида поиска. Сделать выводы."
   ]
  },
  {
   "cell_type": "code",
   "execution_count": 366,
   "outputs": [],
   "source": [
    "import networkx as nx\n",
    "from networkx import *\n",
    "import pylab as plt\n",
    "import os\n",
    "import collections"
   ],
   "metadata": {
    "collapsed": false,
    "pycharm": {
     "name": "#%%\n"
    }
   }
  },
  {
   "cell_type": "code",
   "execution_count": 367,
   "outputs": [
    {
     "data": {
      "text/plain": "'Вильнюс Брест 531\\nВитебск Брест 638\\nВитебск Вильнюс 360\\nВоронеж Витебск 869\\nВоронеж Волгоград 581\\nВолгоград Витебск 1455\\nВитебск Ниж.Новгород 911\\nВильнюс Даугавпилс 211\\nКалининград Брест 699\\nКалининград Вильнюс 333\\nКаунас Вильнюс 102\\nКиев Вильнюс 734\\nКиев Житомир 131\\nЖитомир Донецк 863\\nЖитомир Волгоград 1493\\nКишинев Киев 467\\nКишинев Донецк 812\\nС.Петербург Витебск 602\\nС.Петербург Калининград 739\\nС.Петербург Рига 641\\nМосква Казань 815\\nМосква Ниж.Новгород 411\\nМосква Минск 690\\nМосква Донецк 1084\\nМосква С.Петербург 664\\nМурманск С.Петербург 1412\\nМурманск Минск 2238\\nОрел Витебск 522\\nОрел Донецк 709\\nОрел Москва 368\\nОдесса Киев 487\\nРига Каунас 267\\nТаллинн Рига 308\\nХарьков Киев 471\\nХарьков Симферополь 639\\nЯрославль Воронеж 739\\nЯрославль Минск 940\\nУфа Казань 525\\nУфа Самара 461'"
     },
     "execution_count": 367,
     "metadata": {},
     "output_type": "execute_result"
    }
   ],
   "source": [
    "table = '''Вильнюс Брест 531\n",
    "Витебск Брест 638\n",
    "Витебск Вильнюс 360\n",
    "Воронеж Витебск 869\n",
    "Воронеж Волгоград 581\n",
    "Волгоград Витебск 1455\n",
    "Витебск Ниж.Новгород 911\n",
    "Вильнюс Даугавпилс 211\n",
    "Калининград Брест 699\n",
    "Калининград Вильнюс 333\n",
    "Каунас Вильнюс 102\n",
    "Киев Вильнюс 734\n",
    "Киев Житомир 131\n",
    "Житомир Донецк 863\n",
    "Житомир Волгоград 1493\n",
    "Кишинев Киев 467\n",
    "Кишинев Донецк 812\n",
    "С.Петербург Витебск 602\n",
    "С.Петербург Калининград 739\n",
    "С.Петербург Рига 641\n",
    "Москва Казань 815\n",
    "Москва Ниж.Новгород 411\n",
    "Москва Минск 690\n",
    "Москва Донецк 1084\n",
    "Москва С.Петербург 664\n",
    "Мурманск С.Петербург 1412\n",
    "Мурманск Минск 2238\n",
    "Орел Витебск 522\n",
    "Орел Донецк 709\n",
    "Орел Москва 368\n",
    "Одесса Киев 487\n",
    "Рига Каунас 267\n",
    "Таллинн Рига 308\n",
    "Харьков Киев 471\n",
    "Харьков Симферополь 639\n",
    "Ярославль Воронеж 739\n",
    "Ярославль Минск 940\n",
    "Уфа Казань 525\n",
    "Уфа Самара 461'''\n",
    "# изначальные данные\n",
    "table"
   ],
   "metadata": {
    "collapsed": false,
    "pycharm": {
     "name": "#%%\n"
    }
   }
  },
  {
   "cell_type": "code",
   "execution_count": 368,
   "outputs": [],
   "source": [
    "graph = read_edgelist(r\"data/data_city.txt\") #считываем граф из файла, без веса\n",
    "graph = nx.Graph(graph)\n",
    "nx.draw(graph,  with_labels=True, pos=nx.circular_layout(graph))\n",
    "plt.savefig('graph.png')\n",
    "plt.close()\n",
    "nx.draw(graph,  with_labels=True, pos=nx.kamada_kawai_layout(graph))\n",
    "plt.savefig('graph_2.png')\n",
    "plt.close()"
   ],
   "metadata": {
    "collapsed": false,
    "pycharm": {
     "name": "#%%\n"
    }
   }
  },
  {
   "cell_type": "code",
   "execution_count": 369,
   "outputs": [
    {
     "data": {
      "text/plain": "[['Вильнюс', 'Брест', 531],\n ['Витебск', 'Брест', 638],\n ['Витебск', 'Вильнюс', 360],\n ['Воронеж', 'Витебск', 869],\n ['Воронеж', 'Волгоград', 581],\n ['Волгоград', 'Витебск', 1455],\n ['Витебск', 'Ниж.Новгород', 911],\n ['Вильнюс', 'Даугавпилс', 211],\n ['Калининград', 'Брест', 699],\n ['Калининград', 'Вильнюс', 333],\n ['Каунас', 'Вильнюс', 102],\n ['Киев', 'Вильнюс', 734],\n ['Киев', 'Житомир', 131],\n ['Житомир', 'Донецк', 863],\n ['Житомир', 'Волгоград', 1493],\n ['Кишинев', 'Киев', 467],\n ['Кишинев', 'Донецк', 812],\n ['С.Петербург', 'Витебск', 602],\n ['С.Петербург', 'Калининград', 739],\n ['С.Петербург', 'Рига', 641],\n ['Москва', 'Казань', 815],\n ['Москва', 'Ниж.Новгород', 411],\n ['Москва', 'Минск', 690],\n ['Москва', 'Донецк', 1084],\n ['Москва', 'С.Петербург', 664],\n ['Мурманск', 'С.Петербург', 1412],\n ['Мурманск', 'Минск', 2238],\n ['Орел', 'Витебск', 522],\n ['Орел', 'Донецк', 709],\n ['Орел', 'Москва', 368],\n ['Одесса', 'Киев', 487],\n ['Рига', 'Каунас', 267],\n ['Таллинн', 'Рига', 308],\n ['Харьков', 'Киев', 471],\n ['Харьков', 'Симферополь', 639],\n ['Ярославль', 'Воронеж', 739],\n ['Ярославль', 'Минск', 940],\n ['Уфа', 'Казань', 525],\n ['Уфа', 'Самара', 461]]"
     },
     "execution_count": 369,
     "metadata": {},
     "output_type": "execute_result"
    }
   ],
   "source": [
    "table = list(map(lambda x: x[0:2] + [int(x[2])], map(lambda x: x.split(), table.split('\\n'))))\n",
    "#разбиваем на списки смежности данные с учетом веса\n",
    "table"
   ],
   "metadata": {
    "collapsed": false,
    "pycharm": {
     "name": "#%%\n"
    }
   }
  },
  {
   "cell_type": "code",
   "execution_count": 370,
   "outputs": [
    {
     "name": "stdout",
     "output_type": "stream",
     "text": [
      "{'Вильнюс': {}, 'Витебск': {}, 'Воронеж': {}, 'Волгоград': {}, 'Калининград': {}, 'Каунас': {}, 'Киев': {}, 'Житомир': {}, 'Кишинев': {}, 'С.Петербург': {}, 'Москва': {}, 'Мурманск': {}, 'Орел': {}, 'Одесса': {}, 'Рига': {}, 'Таллинн': {}, 'Харьков': {}, 'Ярославль': {}, 'Уфа': {}, 'Брест': {}, 'Ниж.Новгород': {}, 'Даугавпилс': {}, 'Донецк': {}, 'Казань': {}, 'Минск': {}, 'Симферополь': {}, 'Самара': {}}\n"
     ]
    },
    {
     "data": {
      "text/plain": "{'Вильнюс': {'Брест': 531,\n  'Витебск': 360,\n  'Даугавпилс': 211,\n  'Калининград': 333,\n  'Каунас': 102,\n  'Киев': 734},\n 'Витебск': {'Брест': 638,\n  'Вильнюс': 360,\n  'Воронеж': 869,\n  'Волгоград': 1455,\n  'Ниж.Новгород': 911,\n  'С.Петербург': 602,\n  'Орел': 522},\n 'Воронеж': {'Витебск': 869, 'Волгоград': 581, 'Ярославль': 739},\n 'Волгоград': {'Воронеж': 581, 'Витебск': 1455, 'Житомир': 1493},\n 'Калининград': {'Брест': 699, 'Вильнюс': 333, 'С.Петербург': 739},\n 'Каунас': {'Вильнюс': 102, 'Рига': 267},\n 'Киев': {'Вильнюс': 734,\n  'Житомир': 131,\n  'Кишинев': 467,\n  'Одесса': 487,\n  'Харьков': 471},\n 'Житомир': {'Киев': 131, 'Донецк': 863, 'Волгоград': 1493},\n 'Кишинев': {'Киев': 467, 'Донецк': 812},\n 'С.Петербург': {'Витебск': 602,\n  'Калининград': 739,\n  'Рига': 641,\n  'Москва': 664,\n  'Мурманск': 1412},\n 'Москва': {'Казань': 815,\n  'Ниж.Новгород': 411,\n  'Минск': 690,\n  'Донецк': 1084,\n  'С.Петербург': 664,\n  'Орел': 368},\n 'Мурманск': {'С.Петербург': 1412, 'Минск': 2238},\n 'Орел': {'Витебск': 522, 'Донецк': 709, 'Москва': 368},\n 'Одесса': {'Киев': 487},\n 'Рига': {'С.Петербург': 641, 'Каунас': 267, 'Таллинн': 308},\n 'Таллинн': {'Рига': 308},\n 'Харьков': {'Киев': 471, 'Симферополь': 639},\n 'Ярославль': {'Воронеж': 739, 'Минск': 940},\n 'Уфа': {'Казань': 525, 'Самара': 461},\n 'Брест': {'Вильнюс': 531, 'Витебск': 638, 'Калининград': 699},\n 'Ниж.Новгород': {'Витебск': 911, 'Москва': 411},\n 'Даугавпилс': {'Вильнюс': 211},\n 'Донецк': {'Житомир': 863, 'Кишинев': 812, 'Москва': 1084, 'Орел': 709},\n 'Казань': {'Москва': 815, 'Уфа': 525},\n 'Минск': {'Москва': 690, 'Мурманск': 2238, 'Ярославль': 940},\n 'Симферополь': {'Харьков': 639},\n 'Самара': {'Уфа': 461}}"
     },
     "execution_count": 370,
     "metadata": {},
     "output_type": "execute_result"
    }
   ],
   "source": [
    "#Мой вариант 7\n",
    "START = 'Рига'\n",
    "END = 'Одесса'\n",
    "a_list = table\n",
    "a_dict = {el[0]:dict() for el in a_list}\n",
    "for el in a_list:\n",
    "    a_dict[el[1]] = dict()\n",
    "print(a_dict)\n",
    "for el in a_list:\n",
    "    a_dict[el[0]][el[1]] = el[2]\n",
    "    a_dict[el[1]][el[0]] = el[2]\n",
    "a_dict # вложенный словарь, с которым будем работать"
   ],
   "metadata": {
    "collapsed": false,
    "pycharm": {
     "name": "#%%\n"
    }
   }
  },
  {
   "cell_type": "code",
   "execution_count": 371,
   "outputs": [
    {
     "name": "stdout",
     "output_type": "stream",
     "text": [
      "CPU times: total: 0 ns\n",
      "Wall time: 0 ns\n",
      "Compiler : 156 ms\n"
     ]
    }
   ],
   "source": [
    "%%time\n",
    "parents = dict()\n",
    "parents[START]=None\n",
    "class Queue:\n",
    "    def __init__(self):\n",
    "        self.elements = collections.deque()\n",
    "\n",
    "    def empty(self):\n",
    "        return len(self.elements) == 0\n",
    "\n",
    "    def put(self, x):\n",
    "        self.elements.append(x)\n",
    "\n",
    "    def get(self):\n",
    "        return self.elements.popleft()\n",
    "\n",
    "def print_path():\n",
    "    if END in parents: # если конечная вершина находится в списке с родителями, то выводим путь иначе решения нет\n",
    "        path=[END]\n",
    "        parent = parents[END]\n",
    "        while not parent is None:\n",
    "            path.append(parent)\n",
    "            parent = parents[parent]\n",
    "        print('LIMIT = ', len(path)-1)\n",
    "        for x in  path[::-1]:\n",
    "            print(x, ('---->' if x!=END else ' '), end=' ', )\n",
    "    else:\n",
    "        print('cant find')"
   ],
   "metadata": {
    "collapsed": false,
    "pycharm": {
     "name": "#%%\n"
    }
   }
  },
  {
   "cell_type": "markdown",
   "source": [
    "# Поиск в ширину\n",
    "Трудоемкость O(V+E) рассматриваем все вершины и ребра единожды"
   ],
   "metadata": {
    "collapsed": false,
    "pycharm": {
     "name": "#%% md\n"
    }
   }
  },
  {
   "cell_type": "code",
   "execution_count": 372,
   "outputs": [
    {
     "name": "stdout",
     "output_type": "stream",
     "text": [
      "Рига ----> Каунас ----> Вильнюс ----> Киев ----> Одесса  поиск в ширину  CPU times: total: 0 ns\n",
      "Wall time: 0 ns\n"
     ]
    }
   ],
   "source": [
    "%%time\n",
    "def breadth_first_search_1(graph, start, end): #Трудоемкость O(V+E) рассматриваем все вершины и ребра единожды\n",
    "    # печать того, что мы нашли\n",
    "    frontier = Queue() # очередь\n",
    "    frontier.put(start) # начинаем с вершины, которую передали в start\n",
    "    visited = {} # пустой словарь вершин, которые посетили\n",
    "    visited[start] = True\n",
    "    global parents\n",
    "    parents = {}\n",
    "    parents[start] = None\n",
    "    if start == end:\n",
    "        return\n",
    "\n",
    "    while not frontier.empty(): #пока очередь не пуста\n",
    "        current = frontier.get() #берем элемент\n",
    "     #   print(\"Visiting %r\" % current) выводит обход графа в ширину\n",
    "        for next in graph.neighbors(current): #смотрим всех соседей\n",
    "            if next not in visited:\n",
    "                frontier.put(next)\n",
    "                parents[next] = current #записываем родителя для каждой вершины\n",
    "                visited[next] = True\n",
    "\n",
    "    path = [end]\n",
    "    if end in parents:\n",
    "        parent = parents[end]\n",
    "        while not parent is None:\n",
    "            path.append(parent)\n",
    "            parent = parents[parent]\n",
    "        for x in  path[::-1]:\n",
    "            print(x, ('---->' if x!=end else ' поиск в ширину '), end=' ', )\n",
    "    else:\n",
    "        print('Нет пути между городами')\n",
    "\n",
    "\n",
    "\n",
    "breadth_first_search_1(graph, START, END) # использую graph из библиотеки networkx"
   ],
   "metadata": {
    "collapsed": false,
    "pycharm": {
     "name": "#%%\n"
    }
   }
  },
  {
   "cell_type": "code",
   "execution_count": 373,
   "outputs": [
    {
     "name": "stdout",
     "output_type": "stream",
     "text": [
      "LIMIT =  6\n",
      "Рига ----> С.Петербург ----> Витебск ----> Брест ----> Вильнюс ----> Киев ----> Одесса   CPU times: total: 0 ns\n",
      "Wall time: 987 µs\n"
     ]
    }
   ],
   "source": [
    "%%time\n",
    "parents = dict()\n",
    "parents[START]=None\n",
    "def dfs(graph, start, end, visited = None):  #function for dfs Трудоемкость O(V+E) рассматриваем все вершины и ребра единожды\n",
    "    global parents\n",
    "    if start == end:\n",
    "        return\n",
    "    visited = visited or set() # в python при or если одно из выражений True, то сразу принимает это значение\n",
    "    visited.add(start)\n",
    "    for neighbour in graph[start]:\n",
    "        if neighbour not in visited:\n",
    "            parents[neighbour] = start\n",
    "            dfs(graph, neighbour, end, visited)\n",
    "\n",
    "\n",
    "dfs(a_dict, START, END, {}) # здесь использую вложенный словарь, который создал в самом начале\n",
    "print_path()"
   ],
   "metadata": {
    "collapsed": false,
    "pycharm": {
     "name": "#%%\n"
    }
   }
  },
  {
   "cell_type": "markdown",
   "source": [
    "# Поиск с ограничением глубины\n",
    "Трудоемкость O(V+E) рассматриваем все вершины и ребра единожды"
   ],
   "metadata": {
    "collapsed": false,
    "pycharm": {
     "name": "#%% md\n"
    }
   }
  },
  {
   "cell_type": "code",
   "execution_count": 374,
   "outputs": [
    {
     "name": "stdout",
     "output_type": "stream",
     "text": [
      "LIMIT =  6\n",
      "Рига ----> С.Петербург ----> Витебск ----> Брест ----> Вильнюс ----> Киев ----> Одесса   CPU times: total: 0 ns\n",
      "Wall time: 0 ns\n"
     ]
    }
   ],
   "source": [
    "%%time\n",
    "parents = dict()\n",
    "parents[START]=None\n",
    "\n",
    "def dls(graph, start, end, visited = None, limit = int, depth=0):  #function for dls Трудоемкость O(V+E) рассматриваем все вершины и ребра единожды\n",
    "    visited = visited or list() # в python при or если одно из выражений True, то сразу принимает это значение\n",
    "    global parents\n",
    "    if depth > limit:\n",
    "        return\n",
    "    visited.append(start)\n",
    "    for neighbour in graph[start]:\n",
    "        if neighbour not in visited:\n",
    "            parents[neighbour] = start\n",
    "            dls(graph, neighbour, end, visited, limit, depth + 1)\n",
    "\n",
    "\n",
    "dls(a_dict, START, END, [], 5) # здесь использую вложенный словарь, который создал в самом начале\n",
    "print_path()"
   ],
   "metadata": {
    "collapsed": false,
    "pycharm": {
     "name": "#%%\n"
    }
   }
  },
  {
   "cell_type": "markdown",
   "source": [],
   "metadata": {
    "collapsed": false,
    "pycharm": {
     "name": "#%% md\n"
    }
   }
  },
  {
   "cell_type": "markdown",
   "source": [
    "# Поиск в глубину с итеративным углублением\n",
    "Сумма времен поиска меньше, чем время при результате одного поиска от начало до цели O(V/2)+O(V/2) O(V)"
   ],
   "metadata": {
    "collapsed": false,
    "pycharm": {
     "name": "#%% md\n"
    }
   }
  },
  {
   "cell_type": "code",
   "execution_count": 375,
   "outputs": [
    {
     "name": "stdout",
     "output_type": "stream",
     "text": [
      "LIMIT =  6\n",
      "Рига ----> С.Петербург ----> Витебск ----> Брест ----> Вильнюс ----> Киев ----> Одесса   CPU times: total: 0 ns\n",
      "Wall time: 998 µs\n"
     ]
    }
   ],
   "source": [
    "%%time\n",
    "parents = dict()\n",
    "parents[START]=None\n",
    "\n",
    "def dls(graph, start, end, visited = None, limit = int, depth=0):  #function for dls Трудоемкость O(V+E) рассматриваем все вершины и ребра единожды\n",
    "    visited = visited or list() # в python при or если одно из выражений True, то сразу принимает это значение\n",
    "    if depth > limit:\n",
    "        return\n",
    "    visited.append(start)\n",
    "    for neighbour in graph[start]:\n",
    "        if neighbour not in visited:\n",
    "            parents[neighbour] = start\n",
    "            dls(graph, neighbour, end, visited, limit, depth + 1)\n",
    "\n",
    "LIMIT = 0\n",
    "while END not in parents:\n",
    "    LIMIT += 1\n",
    "    dls(a_dict, START, END, [], LIMIT) # здесь использую вложенный словарь, который создал в самом начале\n",
    "print_path()"
   ],
   "metadata": {
    "collapsed": false,
    "pycharm": {
     "name": "#%%\n"
    }
   }
  },
  {
   "cell_type": "markdown",
   "source": [
    "# Двунаправленный поиск"
   ],
   "metadata": {
    "collapsed": false,
    "pycharm": {
     "name": "#%% md\n"
    }
   }
  },
  {
   "cell_type": "code",
   "execution_count": 376,
   "outputs": [],
   "source": [
    "def check_in(list_1,list_2):\n",
    "    a = set(list_1)\n",
    "    b = set(list_2)\n",
    "    if a&b:\n",
    "        return True\n",
    "    else:\n",
    "        return False"
   ],
   "metadata": {
    "collapsed": false,
    "pycharm": {
     "name": "#%%\n"
    }
   }
  },
  {
   "cell_type": "code",
   "execution_count": 377,
   "outputs": [
    {
     "name": "stdout",
     "output_type": "stream",
     "text": [
      "Рига --> Каунас --> Вильнюс --> Киев --> Одесса  двунаправленный поиск  CPU times: total: 0 ns\n",
      "Wall time: 0 ns\n"
     ]
    }
   ],
   "source": [
    "%%time\n",
    "def breadth_first_search_1(graph, start_1, start_2): #Трудоемкость O(V+E) рассматриваем все вершины и ребра единожды\n",
    "    # печать того, что мы нашли\n",
    "\n",
    "    frontier_1 = Queue() # очередь\n",
    "    frontier_2 = Queue()\n",
    "    frontier_1.put(start_1) # начинаем с вершины, которую передали в start\n",
    "    frontier_2.put(start_2)\n",
    "    visited_1 = {} # пустой словарь вершин, которые посетили\n",
    "    visited_2 = {}\n",
    "    visited_1[start_1] = True\n",
    "    visited_2[start_2] = True\n",
    "    parents_1 = {}\n",
    "    parents_2 = {}\n",
    "    parents_1[start_1] = None\n",
    "    parents_2[start_2] = None\n",
    "\n",
    "    while not check_in(visited_1, visited_2):\n",
    "        if not frontier_1.empty(): #пока очередь не пуста\n",
    "            current = frontier_1.get() #берем элемент\n",
    "         #   print(\"Visiting %r\" % current) выводит обход графа в ширину\n",
    "            for next in graph.neighbors(current): #смотрим всех соседей\n",
    "                if next not in visited_1:\n",
    "                    frontier_1.put(next)\n",
    "                    parents_1[next] = current #записываем родителя для каждой вершины\n",
    "                    visited_1[next] = True\n",
    "        if not frontier_2.empty(): #пока очередь не пуста\n",
    "            current = frontier_2.get() #берем элемент\n",
    "         #   print(\"Visiting %r\" % current) выводит обход графа в ширину\n",
    "            for next in graph.neighbors(current): #смотрим всех соседей\n",
    "                if next not in visited_2:\n",
    "                    frontier_2.put(next)\n",
    "                    parents_2[next] = current #записываем родителя для каждой вершины\n",
    "                    visited_2[next] = True\n",
    "    global_city = list(set(visited_1)&set(visited_2)) # общий город\n",
    "\n",
    "    # path_1 = [end]\n",
    "    # parent_1 = parents[end]\n",
    "    # while not parent is None:\n",
    "    #     path.append(parent)\n",
    "    #     parent = parents[parent]\n",
    "    # for x in  path[::-1]:\n",
    "    #     print(x, ('---->' if x!=end else ' поиск в ширину '), end=' ', )\n",
    "\n",
    "    path_1 = [global_city[0]]\n",
    "    parent_1 = parents_1[global_city[0]]\n",
    "    while not parent_1 is None:\n",
    "        path_1.append(parent_1)\n",
    "        parent_1 = parents_1[parent_1]\n",
    "    for x in  path_1[::-1]:\n",
    "        print(x, ('-->' if x!=global_city[0] else '-->'), end=' ', )\n",
    "    path_2 = [global_city[0]]\n",
    "    parent_2 = parents_2[global_city[0]]\n",
    "    while not parent_2 is None:\n",
    "        path_2.append(parent_2)\n",
    "        parent_2 = parents_2[parent_2]\n",
    "    path_2.pop(0)\n",
    "    for x in  path_2[:]:\n",
    "        print(x, ('-->' if x!=path_2[-1] else ' двунаправленный поиск '), end=' ', )\n",
    "\n",
    "\n",
    "\n",
    "breadth_first_search_1(graph, START, END) # использую graph из библиотеки networkx"
   ],
   "metadata": {
    "collapsed": false,
    "pycharm": {
     "name": "#%%\n"
    }
   }
  },
  {
   "cell_type": "markdown",
   "source": [
    "# Этап 2. Информированный поиск. Воспользовавшись информацией о\n",
    "# протяженности связей от текущего узла, выполнить:\n",
    "1) жадный поиск по первому наилучшему соответствию;\n",
    "2) затем, использую информацию о расстоянии до цели по прямой от\n",
    "каждого узла, выполнить поиск методом минимизации суммарной оценки\n",
    "А*.\n",
    "Отобразить на графе выбранный маршрут и сравнить его сложность с\n",
    "неинформированным поиском. Сделать выводы."
   ],
   "metadata": {
    "collapsed": false,
    "pycharm": {
     "name": "#%% md\n"
    }
   }
  },
  {
   "cell_type": "code",
   "execution_count": 378,
   "outputs": [],
   "source": [
    "def print_path_dist(finish):\n",
    "    if finish in parents.keys(): # если конечная вершина находится в списке с родителями, то выводим путь иначе решения нет\n",
    "        distance = 0\n",
    "        path=[finish]\n",
    "        # print(parents[finish])\n",
    "        parent = list(parents[finish].keys())[0]\n",
    "        while parents.get(parent) != 0:\n",
    "            distance += parents[finish][parent]\n",
    "            finish = parent\n",
    "            path.append(parent)\n",
    "            # print(parents.get(parent))\n",
    "            parent = list(parents[parent].keys())[0]\n",
    "        distance += parents[finish][parent]\n",
    "        path.append(parent)\n",
    "        print('LIMIT = ', len(path)-1)\n",
    "        for x in  path[::-1]:\n",
    "            print(x, ('---->' if x!=END else ' '), end=' ', )\n",
    "        print('Пройденное расстояние', distance)\n",
    "    else:\n",
    "        print('cant find')"
   ],
   "metadata": {
    "collapsed": false,
    "pycharm": {
     "name": "#%%\n"
    }
   }
  },
  {
   "cell_type": "code",
   "execution_count": 379,
   "outputs": [
    {
     "name": "stdout",
     "output_type": "stream",
     "text": [
      "LIMIT =  16\n",
      "Рига ----> Каунас ----> Вильнюс ----> Калининград ----> Брест ----> Витебск ----> Орел ----> Москва ----> С.Петербург ----> Мурманск ----> Минск ----> Ярославль ----> Воронеж ----> Волгоград ----> Житомир ----> Киев ----> Одесса   Пройденное расстояние 11614\n",
      "CPU times: total: 0 ns\n",
      "Wall time: 998 µs\n"
     ]
    }
   ],
   "source": [
    "%%time\n",
    "parents = dict()\n",
    "def close_distance_dfs(graph, start, end, visited = None):  #\n",
    "    global parents\n",
    "    if start == end:\n",
    "        return\n",
    "    visited = visited or set() # в python при or если одно из выражений True, то сразу принимает это значение\n",
    "    visited.add(start)\n",
    "    for neighbour in sorted(graph[start], key = graph[start].get): #сортирует соседей по их близости\n",
    "        if neighbour not in visited:\n",
    "            parents[neighbour] = dict()\n",
    "            parents[neighbour][start] = graph[neighbour][start] # записываю расстояние\n",
    "            #parents[neighbour][start] = graph[neighbour][start]\n",
    "            close_distance_dfs(graph, neighbour, end, visited)\n",
    "parents[START]=0\n",
    "close_distance_dfs(a_dict, START, END, {}) # здесь использую вложенный словарь, который создал в самом начале\n",
    "print_path_dist(END)"
   ],
   "metadata": {
    "collapsed": false,
    "pycharm": {
     "name": "#%%\n"
    }
   }
  },
  {
   "cell_type": "markdown",
   "source": [
    "# Метод минимизации суммарной оценки А*\n",
    "За эвристику возьмем расстояние с помощью bfs\n",
    "Считаем расстояние до каждой вершины из Риги"
   ],
   "metadata": {
    "collapsed": false,
    "pycharm": {
     "name": "#%% md\n"
    }
   }
  },
  {
   "cell_type": "markdown",
   "source": [],
   "metadata": {
    "collapsed": false,
    "pycharm": {
     "name": "#%% md\n"
    }
   }
  },
  {
   "cell_type": "code",
   "execution_count": 380,
   "outputs": [
    {
     "name": "stdout",
     "output_type": "stream",
     "text": [
      "{'Рига': 0, 'С.Петербург': 641, 'Каунас': 267, 'Таллинн': 308, 'Витебск': 1243, 'Калининград': 1380, 'Москва': 1305, 'Мурманск': 2053, 'Вильнюс': 369, 'Брест': 1881, 'Воронеж': 2112, 'Волгоград': 2698, 'Ниж.Новгород': 2154, 'Орел': 1765, 'Казань': 2120, 'Минск': 1995, 'Донецк': 2389, 'Даугавпилс': 580, 'Киев': 1103, 'Ярославль': 2851, 'Житомир': 4191, 'Уфа': 2645, 'Кишинев': 3201, 'Одесса': 1590, 'Харьков': 1574, 'Самара': 3106, 'Симферополь': 2213}\n"
     ]
    }
   ],
   "source": [
    "distance = {}\n",
    "def bfs_dist(graph, start, end): #Трудоемкость O(V+E) рассматриваем все вершины и ребра единожды\n",
    "    # печать того, что мы нашли\n",
    "    if start == end:\n",
    "        return\n",
    "\n",
    "    frontier = Queue() # очередь\n",
    "    frontier.put(start) # начинаем с вершины, которую передали в start\n",
    "    visited = {} # пустой словарь вершин, которые посетили\n",
    "    visited[start] = True\n",
    "    global parents\n",
    "    parents = {}\n",
    "    parents[start] = None\n",
    "    global distance\n",
    "    distance[start] = 0\n",
    "    while not frontier.empty(): #пока очередь не пуста\n",
    "        current = frontier.get() #берем элемент\n",
    "        #print('current', current)\n",
    "     #   print(\"Visiting %r\" % current) выводит обход графа в ширину\n",
    "        for next in graph[current]: #смотрим всех соседей\n",
    "            if next not in visited:\n",
    "                frontier.put(next)\n",
    "                parents[next] = dict()\n",
    "                prev_distance = distance[current]\n",
    "                distance[next] = int(graph[next][current]) + int(prev_distance)\n",
    "                parents[next][current] = graph[next][current]#записываем родителя для каждой вершины\n",
    "                visited[next] = True\n",
    "    print(distance)\n",
    "    #print(len(distance))\n",
    "\n",
    "    # path = [end]\n",
    "    # parent = parents[end]\n",
    "    # while not parent is None:\n",
    "    #     path.append(parent)\n",
    "    #     parent = parents[parent]\n",
    "    # for x in  path[::-1]:\n",
    "    #     print(x, ('---->' if x!=end else ' поиск в ширину '), end=' ', )\n",
    "\n",
    "\n",
    "\n",
    "bfs_dist(a_dict, START, END) # использую graph из библиотеки networkx"
   ],
   "metadata": {
    "collapsed": false,
    "pycharm": {
     "name": "#%%\n"
    }
   }
  },
  {
   "cell_type": "code",
   "execution_count": 381,
   "outputs": [
    {
     "name": "stdout",
     "output_type": "stream",
     "text": [
      "{'Киев': 1103}\n",
      "current  Одесса  neigh Киев\n",
      "{'Киев': 1103, 'Вильнюс': 369, 'Житомир': 4191, 'Кишинев': 3201, 'Одесса': 1590, 'Харьков': 1574}\n",
      "current  Киев  neigh Вильнюс\n",
      "{'Киев': 1103, 'Вильнюс': 369, 'Житомир': 4191, 'Кишинев': 3201, 'Одесса': 1590, 'Харьков': 1574, 'Брест': 1881, 'Витебск': 1243, 'Даугавпилс': 580, 'Калининград': 1380, 'Каунас': 267}\n",
      "current  Вильнюс  neigh Каунас\n",
      "{'Киев': 1103, 'Вильнюс': 369, 'Житомир': 4191, 'Кишинев': 3201, 'Одесса': 1590, 'Харьков': 1574, 'Брест': 1881, 'Витебск': 1243, 'Даугавпилс': 580, 'Калининград': 1380, 'Каунас': 267, 'Рига': 0}\n",
      "current  Каунас  neigh Рига\n",
      "Рига ----> Каунас ----> Вильнюс ----> Киев ----> Одесса   1590\n",
      "CPU times: total: 0 ns\n",
      "Wall time: 0 ns\n"
     ]
    }
   ],
   "source": [
    "%%time\n",
    "def A_star(graph, start, end, visited=None):\n",
    "    global distance\n",
    "    current = end\n",
    "    d_dict = dict()\n",
    "    path = list()\n",
    "    path_dist = 0\n",
    "    while current != start:\n",
    "        for x in list(graph[current].keys()):\n",
    "            d_dict[x] = distance[x]\n",
    "        for neigh in sorted (d_dict, key = d_dict.get):\n",
    "            print(d_dict)\n",
    "            if neigh not in visited:\n",
    "                print('current ', current, ' neigh', neigh)\n",
    "                path_dist +=  int(graph[current][neigh])\n",
    "                if distance[end] - distance[neigh] < path_dist:\n",
    "                    visited.append(neigh)\n",
    "                    path_dist = 0\n",
    "                else:\n",
    "                    path.append(current)\n",
    "                    current = neigh\n",
    "                        # print(current)\n",
    "                    break\n",
    "\n",
    "    path.append(start)\n",
    "    for x in  path[::-1]:\n",
    "        print(x, ('---->' if x!=END else ' '), end=' ', )\n",
    "    print(path_dist)\n",
    "\n",
    "A_star(a_dict, START, END, {})"
   ],
   "metadata": {
    "collapsed": false,
    "pycharm": {
     "name": "#%%\n"
    }
   }
  },
  {
   "cell_type": "markdown",
   "source": [
    "# Выводы\n",
    "Метод минимизации суммарной оценки А* в данном случае показал оптимальный маршрут, так же как и двунаправленный поиск и поиск в ширину\n",
    "Все неинформативные методы показали более лучший результат, чем метод жадного поиска \n"
   ],
   "metadata": {
    "collapsed": false,
    "pycharm": {
     "name": "#%% md\n"
    }
   }
  },
  {
   "cell_type": "code",
   "execution_count": 381,
   "outputs": [],
   "source": [],
   "metadata": {
    "collapsed": false,
    "pycharm": {
     "name": "#%%\n"
    }
   }
  },
  {
   "cell_type": "code",
   "execution_count": 381,
   "outputs": [],
   "source": [],
   "metadata": {
    "collapsed": false,
    "pycharm": {
     "name": "#%%\n"
    }
   }
  }
 ],
 "metadata": {
  "kernelspec": {
   "display_name": "Python 3",
   "language": "python",
   "name": "python3"
  },
  "language_info": {
   "codemirror_mode": {
    "name": "ipython",
    "version": 2
   },
   "file_extension": ".py",
   "mimetype": "text/x-python",
   "name": "python",
   "nbconvert_exporter": "python",
   "pygments_lexer": "ipython2",
   "version": "2.7.6"
  }
 },
 "nbformat": 4,
 "nbformat_minor": 0
}